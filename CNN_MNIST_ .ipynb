{
 "cells": [
  {
   "cell_type": "markdown",
   "metadata": {
    "colab_type": "text",
    "id": "9xUXKWKpu3jx"
   },
   "source": [
    "#### Reference model\n",
    "#### (keras mnist exapmle )"
   ]
  },
  {
   "cell_type": "code",
   "execution_count": 1,
   "metadata": {
    "colab": {
     "base_uri": "https://localhost:8080/",
     "height": 476
    },
    "colab_type": "code",
    "id": "6XlshtPJu1K1",
    "outputId": "27dce34c-0c72-4e2d-8e56-919c2a4452ef"
   },
   "outputs": [
    {
     "name": "stdout",
     "output_type": "stream",
     "text": [
      "x_train shape: (60000, 28, 28, 1)\n",
      "60000 train samples\n",
      "10000 test samples\n",
      "Epoch 1/12\n",
      "469/469 [==============================] - 4s 9ms/step - loss: 0.2550 - accuracy: 0.9214 - val_loss: 0.0524 - val_accuracy: 0.9839\n",
      "Epoch 2/12\n",
      "469/469 [==============================] - 4s 8ms/step - loss: 0.0861 - accuracy: 0.9743 - val_loss: 0.0412 - val_accuracy: 0.9860\n",
      "Epoch 3/12\n",
      "469/469 [==============================] - 4s 8ms/step - loss: 0.0659 - accuracy: 0.9802 - val_loss: 0.0353 - val_accuracy: 0.9880\n",
      "Epoch 4/12\n",
      "469/469 [==============================] - 4s 8ms/step - loss: 0.0524 - accuracy: 0.9844 - val_loss: 0.0362 - val_accuracy: 0.9877\n",
      "Epoch 5/12\n",
      "469/469 [==============================] - 4s 8ms/step - loss: 0.0470 - accuracy: 0.9857 - val_loss: 0.0301 - val_accuracy: 0.9910\n",
      "Epoch 6/12\n",
      "469/469 [==============================] - 4s 8ms/step - loss: 0.0403 - accuracy: 0.9879 - val_loss: 0.0291 - val_accuracy: 0.9907\n",
      "Epoch 7/12\n",
      "469/469 [==============================] - 4s 8ms/step - loss: 0.0367 - accuracy: 0.9888 - val_loss: 0.0275 - val_accuracy: 0.9916\n",
      "Epoch 8/12\n",
      "469/469 [==============================] - 4s 8ms/step - loss: 0.0335 - accuracy: 0.9899 - val_loss: 0.0262 - val_accuracy: 0.9912\n",
      "Epoch 9/12\n",
      "469/469 [==============================] - 4s 8ms/step - loss: 0.0305 - accuracy: 0.9906 - val_loss: 0.0305 - val_accuracy: 0.9906\n",
      "Epoch 10/12\n",
      "469/469 [==============================] - 4s 8ms/step - loss: 0.0297 - accuracy: 0.9906 - val_loss: 0.0245 - val_accuracy: 0.9921\n",
      "Epoch 11/12\n",
      "469/469 [==============================] - 4s 8ms/step - loss: 0.0262 - accuracy: 0.9917 - val_loss: 0.0287 - val_accuracy: 0.9911\n",
      "Epoch 12/12\n",
      "469/469 [==============================] - 4s 8ms/step - loss: 0.0266 - accuracy: 0.9913 - val_loss: 0.0260 - val_accuracy: 0.9906\n"
     ]
    }
   ],
   "source": [
    "# Credits: https://github.com/keras-team/keras/blob/master/examples/mnist_cnn.py\n",
    "\n",
    "\n",
    "from __future__ import print_function\n",
    "import keras\n",
    "from keras.datasets import mnist\n",
    "from keras.models import Sequential\n",
    "from keras.layers import Dense, Dropout, Flatten\n",
    "from keras.layers import Conv2D, MaxPooling2D\n",
    "from keras import backend as K\n",
    "\n",
    "batch_size = 128\n",
    "num_classes = 10\n",
    "epochs = 12\n",
    "\n",
    "# input image dimensions\n",
    "img_rows, img_cols = 28, 28\n",
    "\n",
    "# the data, split between train and test sets\n",
    "(x_train, y_train), (x_test, y_test) = mnist.load_data()\n",
    "\n",
    "if K.image_data_format() == 'channels_first':\n",
    "    x_train = x_train.reshape(x_train.shape[0], 1, img_rows, img_cols)\n",
    "    x_test = x_test.reshape(x_test.shape[0], 1, img_rows, img_cols)\n",
    "    input_shape = (1, img_rows, img_cols)\n",
    "else:\n",
    "    x_train = x_train.reshape(x_train.shape[0], img_rows, img_cols, 1)\n",
    "    x_test = x_test.reshape(x_test.shape[0], img_rows, img_cols, 1)\n",
    "    input_shape = (img_rows, img_cols, 1)\n",
    "\n",
    "x_train = x_train.astype('float32')\n",
    "x_test = x_test.astype('float32')\n",
    "x_train /= 255\n",
    "x_test /= 255\n",
    "print('x_train shape:', x_train.shape)\n",
    "print(x_train.shape[0], 'train samples')\n",
    "print(x_test.shape[0], 'test samples')\n",
    "\n",
    "# convert class vectors to binary class matrices\n",
    "y_train = keras.utils.to_categorical(y_train, num_classes)\n",
    "y_test = keras.utils.to_categorical(y_test, num_classes)\n",
    "\n",
    "model = Sequential()\n",
    "model.add(Conv2D(32, kernel_size=(3, 3),\n",
    "                 activation='relu',\n",
    "                 input_shape=input_shape))\n",
    "model.add(Conv2D(64, (3, 3), activation='relu'))\n",
    "model.add(MaxPooling2D(pool_size=(2, 2)))\n",
    "model.add(Dropout(0.25))\n",
    "model.add(Flatten())\n",
    "model.add(Dense(128, activation='relu'))\n",
    "model.add(Dropout(0.5))\n",
    "model.add(Dense(num_classes, activation='softmax'))\n",
    "\n",
    "#https://www.reddit.com/r/tensorflow/comments/gbmvjm/tfkeras_yielding_lower_accuracy_than_keras/fp7avk8?utm_source=share&utm_medium=web2x&context=3\n",
    "#changed learning rate to 1 from 0.001(default in tensorflow)\n",
    "#this learning rate works very well for me\n",
    "model.compile(loss=keras.losses.categorical_crossentropy,\n",
    "              optimizer=keras.optimizers.Adadelta(lr=1),\n",
    "              metrics=['accuracy'])\n",
    "\n",
    "history=model.fit(x_train, y_train,\n",
    "          batch_size=batch_size,\n",
    "          epochs=epochs,\n",
    "          verbose=1,\n",
    "          validation_data=(x_test, y_test))\n",
    "score = model.evaluate(x_test, y_test, verbose=0)"
   ]
  },
  {
   "cell_type": "code",
   "execution_count": 2,
   "metadata": {
    "colab": {},
    "colab_type": "code",
    "id": "E1hnHFhAmbAs"
   },
   "outputs": [],
   "source": [
    "import matplotlib.pyplot as plt\n",
    "import numpy as np\n",
    "import time\n",
    "# https://gist.github.com/greydanus/f6eee59eaf1d90fcb3b534a25362cea4\n",
    "# https://stackoverflow.com/a/14434334\n",
    "# this function is used to update the plots for each epoch and error\n",
    "def plt_dynamic(x, vy, ty, ax, colors=['b']):\n",
    "    ax.plot(x, vy, 'b', label=\"Validation Loss\")\n",
    "    ax.plot(x, ty, 'r', label=\"Train Loss\")\n",
    "    plt.legend()\n",
    "    plt.grid()\n",
    "    fig.canvas.draw()"
   ]
  },
  {
   "cell_type": "code",
   "execution_count": 3,
   "metadata": {
    "colab": {
     "base_uri": "https://localhost:8080/",
     "height": 425
    },
    "colab_type": "code",
    "id": "Pmap97mRBhUO",
    "outputId": "f8f1b5a7-fcee-4d32-a0b8-7961b4f4b434"
   },
   "outputs": [
    {
     "name": "stdout",
     "output_type": "stream",
     "text": [
      "Model: \"sequential\"\n",
      "_________________________________________________________________\n",
      "Layer (type)                 Output Shape              Param #   \n",
      "=================================================================\n",
      "conv2d (Conv2D)              (None, 26, 26, 32)        320       \n",
      "_________________________________________________________________\n",
      "conv2d_1 (Conv2D)            (None, 24, 24, 64)        18496     \n",
      "_________________________________________________________________\n",
      "max_pooling2d (MaxPooling2D) (None, 12, 12, 64)        0         \n",
      "_________________________________________________________________\n",
      "dropout (Dropout)            (None, 12, 12, 64)        0         \n",
      "_________________________________________________________________\n",
      "flatten (Flatten)            (None, 9216)              0         \n",
      "_________________________________________________________________\n",
      "dense (Dense)                (None, 128)               1179776   \n",
      "_________________________________________________________________\n",
      "dropout_1 (Dropout)          (None, 128)               0         \n",
      "_________________________________________________________________\n",
      "dense_1 (Dense)              (None, 10)                1290      \n",
      "=================================================================\n",
      "Total params: 1,199,882\n",
      "Trainable params: 1,199,882\n",
      "Non-trainable params: 0\n",
      "_________________________________________________________________\n"
     ]
    }
   ],
   "source": [
    "model.summary()"
   ]
  },
  {
   "cell_type": "code",
   "execution_count": 4,
   "metadata": {
    "colab": {
     "base_uri": "https://localhost:8080/",
     "height": 313
    },
    "colab_type": "code",
    "id": "W4cPO1VXnLgQ",
    "outputId": "859bd183-43bb-493a-c0f0-4163b88b1743"
   },
   "outputs": [
    {
     "name": "stdout",
     "output_type": "stream",
     "text": [
      "Test score: 0.02598360925912857\n",
      "Test accuracy: 0.9905999898910522\n"
     ]
    },
    {
     "data": {
      "image/png": "[encoded data removed]",
      "text/plain": [
       "<Figure size 432x288 with 1 Axes>"
      ]
     },
     "metadata": {
      "needs_background": "light",
      "tags": []
     },
     "output_type": "display_data"
    }
   ],
   "source": [
    "score = model.evaluate(x_test, y_test, verbose=0) \n",
    "print('Test score:', score[0]) \n",
    "print('Test accuracy:', score[1])\n",
    "\n",
    "fig,ax = plt.subplots(1,1)\n",
    "ax.set_xlabel('epoch') ; ax.set_ylabel('Categorical Crossentropy Loss')\n",
    "# list of epoch numbers\n",
    "x = list(range(1,epochs+1))\n",
    "vy = history.history['val_loss']\n",
    "ty = history.history['loss']\n",
    "plt_dynamic(x, vy, ty, ax)"
   ]
  },
  {
   "cell_type": "markdown",
   "metadata": {
    "colab_type": "text",
    "id": "S7srso_jHrU2"
   },
   "source": [
    "##3-layer architecture+ MaxPooling + Dropout + BatchNormalization"
   ]
  },
  {
   "cell_type": "code",
   "execution_count": 5,
   "metadata": {
    "colab": {
     "base_uri": "https://localhost:8080/",
     "height": 425
    },
    "colab_type": "code",
    "id": "NU3yG8HlnNDM",
    "outputId": "df0d87ca-6428-4770-fcfb-5b8e773f553b"
   },
   "outputs": [
    {
     "name": "stdout",
     "output_type": "stream",
     "text": [
      "Epoch 1/12\n",
      "469/469 [==============================] - 5s 10ms/step - loss: 0.2595 - accuracy: 0.9181 - val_loss: 0.1301 - val_accuracy: 0.9634\n",
      "Epoch 2/12\n",
      "469/469 [==============================] - 4s 9ms/step - loss: 0.0940 - accuracy: 0.9706 - val_loss: 0.0354 - val_accuracy: 0.9887\n",
      "Epoch 3/12\n",
      "469/469 [==============================] - 4s 9ms/step - loss: 0.0707 - accuracy: 0.9777 - val_loss: 0.0346 - val_accuracy: 0.9890\n",
      "Epoch 4/12\n",
      "469/469 [==============================] - 4s 9ms/step - loss: 0.0608 - accuracy: 0.9805 - val_loss: 0.0271 - val_accuracy: 0.9914\n",
      "Epoch 5/12\n",
      "469/469 [==============================] - 4s 9ms/step - loss: 0.0544 - accuracy: 0.9832 - val_loss: 0.0282 - val_accuracy: 0.9904\n",
      "Epoch 6/12\n",
      "469/469 [==============================] - 4s 9ms/step - loss: 0.0486 - accuracy: 0.9846 - val_loss: 0.0264 - val_accuracy: 0.9910\n",
      "Epoch 7/12\n",
      "469/469 [==============================] - 4s 9ms/step - loss: 0.0460 - accuracy: 0.9857 - val_loss: 0.0279 - val_accuracy: 0.9912\n",
      "Epoch 8/12\n",
      "469/469 [==============================] - 4s 9ms/step - loss: 0.0420 - accuracy: 0.9867 - val_loss: 0.0256 - val_accuracy: 0.9924\n",
      "Epoch 9/12\n",
      "469/469 [==============================] - 4s 9ms/step - loss: 0.0405 - accuracy: 0.9874 - val_loss: 0.0204 - val_accuracy: 0.9930\n",
      "Epoch 10/12\n",
      "469/469 [==============================] - 4s 9ms/step - loss: 0.0375 - accuracy: 0.9883 - val_loss: 0.0232 - val_accuracy: 0.9927\n",
      "Epoch 11/12\n",
      "469/469 [==============================] - 4s 9ms/step - loss: 0.0379 - accuracy: 0.9880 - val_loss: 0.0186 - val_accuracy: 0.9939\n",
      "Epoch 12/12\n",
      "469/469 [==============================] - 4s 9ms/step - loss: 0.0352 - accuracy: 0.9886 - val_loss: 0.0232 - val_accuracy: 0.9924\n"
     ]
    }
   ],
   "source": [
    "from keras.layers.normalization import BatchNormalization\n",
    "model = Sequential()\n",
    "\n",
    "model.add(Conv2D(64, kernel_size=(3, 3),\n",
    "                 activation='relu',\n",
    "                 input_shape=input_shape))\n",
    "model.add(Dropout(0.125))\n",
    "\n",
    "model.add(Conv2D(32, (3, 3), activation='relu'))\n",
    "model.add(MaxPooling2D(pool_size=(2, 2)))\n",
    "model.add(BatchNormalization())\n",
    "model.add(Dropout(0.25))\n",
    "\n",
    "model.add(Conv2D(16, (3, 3), activation='relu'))\n",
    "model.add(MaxPooling2D(pool_size=(2, 2)))\n",
    "model.add(BatchNormalization())\n",
    "model.add(Dropout(0.5))\n",
    "\n",
    "model.add(Flatten())\n",
    "model.add(Dense(128, activation='relu'))\n",
    "model.add(Dense(num_classes, activation='softmax'))\n",
    "\n",
    "#https://www.reddit.com/r/tensorflow/comments/gbmvjm/tfkeras_yielding_lower_accuracy_than_keras/fp7avk8?utm_source=share&utm_medium=web2x&context=3\n",
    "#changed learning rate to 1 from 0.001(default in tensorflow)\n",
    "#this learning rate works very well for me\n",
    "model.compile(loss=keras.losses.categorical_crossentropy,\n",
    "              optimizer=keras.optimizers.Adadelta(lr=1),\n",
    "              metrics=['accuracy'])\n",
    "\n",
    "history=model.fit(x_train, y_train,\n",
    "          batch_size=batch_size,\n",
    "          epochs=epochs,\n",
    "          verbose=1,\n",
    "          validation_data=(x_test, y_test))\n",
    "score = model.evaluate(x_test, y_test, verbose=0)"
   ]
  },
  {
   "cell_type": "code",
   "execution_count": 6,
   "metadata": {
    "colab": {
     "base_uri": "https://localhost:8080/",
     "height": 595
    },
    "colab_type": "code",
    "id": "VBGhTv5Dwapg",
    "outputId": "cc58683c-b4d2-4914-f046-30e6da02b6b9"
   },
   "outputs": [
    {
     "name": "stdout",
     "output_type": "stream",
     "text": [
      "Model: \"sequential_1\"\n",
      "_________________________________________________________________\n",
      "Layer (type)                 Output Shape              Param #   \n",
      "=================================================================\n",
      "conv2d_2 (Conv2D)            (None, 26, 26, 64)        640       \n",
      "_________________________________________________________________\n",
      "dropout_2 (Dropout)          (None, 26, 26, 64)        0         \n",
      "_________________________________________________________________\n",
      "conv2d_3 (Conv2D)            (None, 24, 24, 32)        18464     \n",
      "_________________________________________________________________\n",
      "max_pooling2d_1 (MaxPooling2 (None, 12, 12, 32)        0         \n",
      "_________________________________________________________________\n",
      "batch_normalization (BatchNo (None, 12, 12, 32)        128       \n",
      "_________________________________________________________________\n",
      "dropout_3 (Dropout)          (None, 12, 12, 32)        0         \n",
      "_________________________________________________________________\n",
      "conv2d_4 (Conv2D)            (None, 10, 10, 16)        4624      \n",
      "_________________________________________________________________\n",
      "max_pooling2d_2 (MaxPooling2 (None, 5, 5, 16)          0         \n",
      "_________________________________________________________________\n",
      "batch_normalization_1 (Batch (None, 5, 5, 16)          64        \n",
      "_________________________________________________________________\n",
      "dropout_4 (Dropout)          (None, 5, 5, 16)          0         \n",
      "_________________________________________________________________\n",
      "flatten_1 (Flatten)          (None, 400)               0         \n",
      "_________________________________________________________________\n",
      "dense_2 (Dense)              (None, 128)               51328     \n",
      "_________________________________________________________________\n",
      "dense_3 (Dense)              (None, 10)                1290      \n",
      "=================================================================\n",
      "Total params: 76,538\n",
      "Trainable params: 76,442\n",
      "Non-trainable params: 96\n",
      "_________________________________________________________________\n"
     ]
    }
   ],
   "source": [
    " model.summary()"
   ]
  },
  {
   "cell_type": "code",
   "execution_count": 7,
   "metadata": {
    "colab": {
     "base_uri": "https://localhost:8080/",
     "height": 313
    },
    "colab_type": "code",
    "id": "PYI82-zuF98Z",
    "outputId": "14d3aa9a-40e4-44b1-8f76-8c0aaf28f594"
   },
   "outputs": [
    {
     "name": "stdout",
     "output_type": "stream",
     "text": [
      "Test score: 0.023232409730553627\n",
      "Test accuracy: 0.9923999905586243\n"
     ]
    },
    {
     "data": {
      "image/png": "[encoded data removed]",
      "text/plain": [
       "<Figure size 432x288 with 1 Axes>"
      ]
     },
     "metadata": {
      "needs_background": "light",
      "tags": []
     },
     "output_type": "display_data"
    }
   ],
   "source": [
    "score = model.evaluate(x_test, y_test, verbose=0) \n",
    "print('Test score:', score[0]) \n",
    "print('Test accuracy:', score[1])\n",
    "\n",
    "fig,ax = plt.subplots(1,1)\n",
    "ax.set_xlabel('epoch') ; ax.set_ylabel('Categorical Crossentropy Loss')\n",
    "# list of epoch numbers\n",
    "x = list(range(1,epochs+1))\n",
    "vy = history.history['val_loss']\n",
    "ty = history.history['loss']\n",
    "plt_dynamic(x, vy, ty, ax)"
   ]
  },
  {
   "cell_type": "markdown",
   "metadata": {
    "colab_type": "text",
    "id": "3bh6OAvJJCnw"
   },
   "source": [
    "##5-layer architecture+ MaxPooling "
   ]
  },
  {
   "cell_type": "code",
   "execution_count": 8,
   "metadata": {
    "colab": {
     "base_uri": "https://localhost:8080/",
     "height": 425
    },
    "colab_type": "code",
    "id": "if9R6kSsJDcT",
    "outputId": "face2856-4452-4bf4-e71f-735ed9fc582e"
   },
   "outputs": [
    {
     "name": "stdout",
     "output_type": "stream",
     "text": [
      "Epoch 1/12\n",
      "469/469 [==============================] - 6s 12ms/step - loss: 0.3565 - accuracy: 0.8842 - val_loss: 0.0597 - val_accuracy: 0.9802\n",
      "Epoch 2/12\n",
      "469/469 [==============================] - 5s 11ms/step - loss: 0.0634 - accuracy: 0.9808 - val_loss: 0.0345 - val_accuracy: 0.9876\n",
      "Epoch 3/12\n",
      "469/469 [==============================] - 5s 11ms/step - loss: 0.0435 - accuracy: 0.9863 - val_loss: 0.0355 - val_accuracy: 0.9889\n",
      "Epoch 4/12\n",
      "469/469 [==============================] - 5s 11ms/step - loss: 0.0347 - accuracy: 0.9892 - val_loss: 0.0337 - val_accuracy: 0.9896\n",
      "Epoch 5/12\n",
      "469/469 [==============================] - 5s 11ms/step - loss: 0.0266 - accuracy: 0.9914 - val_loss: 0.0315 - val_accuracy: 0.9902\n",
      "Epoch 6/12\n",
      "469/469 [==============================] - 5s 11ms/step - loss: 0.0231 - accuracy: 0.9925 - val_loss: 0.0613 - val_accuracy: 0.9795\n",
      "Epoch 7/12\n",
      "469/469 [==============================] - 5s 11ms/step - loss: 0.0186 - accuracy: 0.9940 - val_loss: 0.0303 - val_accuracy: 0.9902\n",
      "Epoch 8/12\n",
      "469/469 [==============================] - 5s 11ms/step - loss: 0.0151 - accuracy: 0.9955 - val_loss: 0.0265 - val_accuracy: 0.9917\n",
      "Epoch 9/12\n",
      "469/469 [==============================] - 5s 11ms/step - loss: 0.0129 - accuracy: 0.9956 - val_loss: 0.0293 - val_accuracy: 0.9912\n",
      "Epoch 10/12\n",
      "469/469 [==============================] - 5s 11ms/step - loss: 0.0110 - accuracy: 0.9965 - val_loss: 0.0381 - val_accuracy: 0.9895\n",
      "Epoch 11/12\n",
      "469/469 [==============================] - 5s 11ms/step - loss: 0.0089 - accuracy: 0.9972 - val_loss: 0.0262 - val_accuracy: 0.9906\n",
      "Epoch 12/12\n",
      "469/469 [==============================] - 5s 12ms/step - loss: 0.0081 - accuracy: 0.9972 - val_loss: 0.0313 - val_accuracy: 0.9911\n"
     ]
    }
   ],
   "source": [
    "model = Sequential()\n",
    "\n",
    "model.add(Conv2D(64, kernel_size=(3, 3),\n",
    "                 activation='relu',\n",
    "                 input_shape=input_shape))\n",
    "\n",
    "model.add(Conv2D(64, (3, 3), activation='relu',padding='same'))\n",
    "model.add(MaxPooling2D(pool_size=(2, 2),padding='same'))\n",
    "\n",
    "model.add(Conv2D(32, (3, 3), activation='relu',padding='same'))\n",
    "model.add(MaxPooling2D(pool_size=(2, 2),padding='same'))\n",
    "\n",
    "model.add(Conv2D(32, (3, 3), activation='relu',padding='same'))\n",
    "model.add(MaxPooling2D(pool_size=(2, 2),padding='same'))\n",
    "\n",
    "model.add(Conv2D(16, (3, 3), activation='relu',padding='same'))\n",
    "model.add(MaxPooling2D(pool_size=(2, 2),padding='same'))\n",
    "\n",
    "model.add(Flatten())\n",
    "model.add(Dense(128, activation='relu'))\n",
    "model.add(Dense(num_classes, activation='softmax'))\n",
    "\n",
    "#https://www.reddit.com/r/tensorflow/comments/gbmvjm/tfkeras_yielding_lower_accuracy_than_keras/fp7avk8?utm_source=share&utm_medium=web2x&context=3\n",
    "#changed learning rate to 1 from 0.001(default in tensorflow)\n",
    "#this learning rate works very well for me\n",
    "model.compile(loss=keras.losses.categorical_crossentropy,\n",
    "              optimizer=keras.optimizers.Adadelta(lr=1),\n",
    "              metrics=['accuracy'])\n",
    "\n",
    "history=model.fit(x_train, y_train,\n",
    "          batch_size=batch_size,\n",
    "          epochs=epochs,\n",
    "          verbose=1,\n",
    "          validation_data=(x_test, y_test))\n",
    "score = model.evaluate(x_test, y_test, verbose=0)"
   ]
  },
  {
   "cell_type": "code",
   "execution_count": 9,
   "metadata": {
    "colab": {
     "base_uri": "https://localhost:8080/",
     "height": 561
    },
    "colab_type": "code",
    "id": "CElS0d_HJDci",
    "outputId": "024c18a1-87f1-4d65-a47f-5f2e2a78414e"
   },
   "outputs": [
    {
     "name": "stdout",
     "output_type": "stream",
     "text": [
      "Model: \"sequential_2\"\n",
      "_________________________________________________________________\n",
      "Layer (type)                 Output Shape              Param #   \n",
      "=================================================================\n",
      "conv2d_5 (Conv2D)            (None, 26, 26, 64)        640       \n",
      "_________________________________________________________________\n",
      "conv2d_6 (Conv2D)            (None, 26, 26, 64)        36928     \n",
      "_________________________________________________________________\n",
      "max_pooling2d_3 (MaxPooling2 (None, 13, 13, 64)        0         \n",
      "_________________________________________________________________\n",
      "conv2d_7 (Conv2D)            (None, 13, 13, 32)        18464     \n",
      "_________________________________________________________________\n",
      "max_pooling2d_4 (MaxPooling2 (None, 7, 7, 32)          0         \n",
      "_________________________________________________________________\n",
      "conv2d_8 (Conv2D)            (None, 7, 7, 32)          9248      \n",
      "_________________________________________________________________\n",
      "max_pooling2d_5 (MaxPooling2 (None, 4, 4, 32)          0         \n",
      "_________________________________________________________________\n",
      "conv2d_9 (Conv2D)            (None, 4, 4, 16)          4624      \n",
      "_________________________________________________________________\n",
      "max_pooling2d_6 (MaxPooling2 (None, 2, 2, 16)          0         \n",
      "_________________________________________________________________\n",
      "flatten_2 (Flatten)          (None, 64)                0         \n",
      "_________________________________________________________________\n",
      "dense_4 (Dense)              (None, 128)               8320      \n",
      "_________________________________________________________________\n",
      "dense_5 (Dense)              (None, 10)                1290      \n",
      "=================================================================\n",
      "Total params: 79,514\n",
      "Trainable params: 79,514\n",
      "Non-trainable params: 0\n",
      "_________________________________________________________________\n"
     ]
    }
   ],
   "source": [
    " model.summary()"
   ]
  },
  {
   "cell_type": "code",
   "execution_count": 10,
   "metadata": {
    "colab": {
     "base_uri": "https://localhost:8080/",
     "height": 313
    },
    "colab_type": "code",
    "id": "qPdWX7RPJDcu",
    "outputId": "ce58270f-1872-4083-fd9e-1bb92a5c7b29"
   },
   "outputs": [
    {
     "name": "stdout",
     "output_type": "stream",
     "text": [
      "Test score: 0.03131846338510513\n",
      "Test accuracy: 0.991100013256073\n"
     ]
    },
    {
     "data": {
      "image/png": "[encoded data removed]",
      "text/plain": [
       "<Figure size 432x288 with 1 Axes>"
      ]
     },
     "metadata": {
      "needs_background": "light",
      "tags": []
     },
     "output_type": "display_data"
    }
   ],
   "source": [
    "score = model.evaluate(x_test, y_test, verbose=0) \n",
    "print('Test score:', score[0]) \n",
    "print('Test accuracy:', score[1])\n",
    "\n",
    "fig,ax = plt.subplots(1,1)\n",
    "ax.set_xlabel('epoch') ; ax.set_ylabel('Categorical Crossentropy Loss')\n",
    "# list of epoch numbers\n",
    "x = list(range(1,epochs+1))\n",
    "vy = history.history['val_loss']\n",
    "ty = history.history['loss']\n",
    "plt_dynamic(x, vy, ty, ax)"
   ]
  },
  {
   "cell_type": "markdown",
   "metadata": {
    "colab_type": "text",
    "id": "XUX0x7GtNx2a"
   },
   "source": [
    "##7-layer architecture\n",
    "(no MaxPooling)"
   ]
  },
  {
   "cell_type": "code",
   "execution_count": 11,
   "metadata": {
    "colab": {
     "base_uri": "https://localhost:8080/",
     "height": 425
    },
    "colab_type": "code",
    "id": "3pWooSVfMIYW",
    "outputId": "4dcbea4c-1722-4f78-dea5-c22c3cc10f04"
   },
   "outputs": [
    {
     "name": "stdout",
     "output_type": "stream",
     "text": [
      "Epoch 1/12\n",
      "469/469 [==============================] - 10s 21ms/step - loss: 0.2342 - accuracy: 0.9257 - val_loss: 0.0591 - val_accuracy: 0.9809\n",
      "Epoch 2/12\n",
      "469/469 [==============================] - 9s 20ms/step - loss: 0.0523 - accuracy: 0.9844 - val_loss: 0.0428 - val_accuracy: 0.9868\n",
      "Epoch 3/12\n",
      "469/469 [==============================] - 9s 20ms/step - loss: 0.0347 - accuracy: 0.9896 - val_loss: 0.0370 - val_accuracy: 0.9887\n",
      "Epoch 4/12\n",
      "469/469 [==============================] - 9s 20ms/step - loss: 0.0241 - accuracy: 0.9926 - val_loss: 0.0343 - val_accuracy: 0.9890\n",
      "Epoch 5/12\n",
      "469/469 [==============================] - 9s 20ms/step - loss: 0.0167 - accuracy: 0.9948 - val_loss: 0.0424 - val_accuracy: 0.9879\n",
      "Epoch 6/12\n",
      "469/469 [==============================] - 9s 20ms/step - loss: 0.0125 - accuracy: 0.9960 - val_loss: 0.0465 - val_accuracy: 0.9891\n",
      "Epoch 7/12\n",
      "469/469 [==============================] - 9s 20ms/step - loss: 0.0090 - accuracy: 0.9970 - val_loss: 0.0406 - val_accuracy: 0.9886\n",
      "Epoch 8/12\n",
      "469/469 [==============================] - 9s 20ms/step - loss: 0.0066 - accuracy: 0.9980 - val_loss: 0.0339 - val_accuracy: 0.9916\n",
      "Epoch 9/12\n",
      "469/469 [==============================] - 9s 20ms/step - loss: 0.0049 - accuracy: 0.9985 - val_loss: 0.0437 - val_accuracy: 0.9910\n",
      "Epoch 10/12\n",
      "469/469 [==============================] - 9s 20ms/step - loss: 0.0036 - accuracy: 0.9991 - val_loss: 0.0473 - val_accuracy: 0.9905\n",
      "Epoch 11/12\n",
      "469/469 [==============================] - 9s 20ms/step - loss: 0.0027 - accuracy: 0.9992 - val_loss: 0.0546 - val_accuracy: 0.9895\n",
      "Epoch 12/12\n",
      "469/469 [==============================] - 9s 20ms/step - loss: 0.0016 - accuracy: 0.9996 - val_loss: 0.0519 - val_accuracy: 0.9905\n"
     ]
    }
   ],
   "source": [
    "model = Sequential()\n",
    "\n",
    "model.add(Conv2D(128, kernel_size=(3, 3),\n",
    "                 activation='relu',\n",
    "                 input_shape=input_shape))\n",
    "\n",
    "model.add(Conv2D(64, (3, 3), activation='relu'))\n",
    "\n",
    "model.add(Conv2D(64, (3, 3), activation='relu'))\n",
    "\n",
    "model.add(Conv2D(32, (3, 3), activation='relu'))\n",
    "\n",
    "model.add(Conv2D(32, (3, 3), activation='relu'))\n",
    "\n",
    "model.add(Conv2D(16, (3, 3), activation='relu'))\n",
    "\n",
    "model.add(Conv2D(16, (3, 3), activation='relu'))\n",
    "\n",
    "model.add(Flatten())\n",
    "model.add(Dense(128, activation='relu'))\n",
    "model.add(Dense(num_classes, activation='softmax'))\n",
    "\n",
    "#https://www.reddit.com/r/tensorflow/comments/gbmvjm/tfkeras_yielding_lower_accuracy_than_keras/fp7avk8?utm_source=share&utm_medium=web2x&context=3\n",
    "#changed learning rate to 1 from 0.001(default in tensorflow)\n",
    "#this learning rate works very well for me\n",
    "model.compile(loss=keras.losses.categorical_crossentropy,\n",
    "              optimizer=keras.optimizers.Adadelta(lr=1),\n",
    "              metrics=['accuracy'])\n",
    "\n",
    "history=model.fit(x_train, y_train,\n",
    "          batch_size=batch_size,\n",
    "          epochs=epochs,\n",
    "          verbose=1,\n",
    "          validation_data=(x_test, y_test))\n",
    "score = model.evaluate(x_test, y_test, verbose=0)"
   ]
  },
  {
   "cell_type": "code",
   "execution_count": 12,
   "metadata": {
    "colab": {
     "base_uri": "https://localhost:8080/",
     "height": 493
    },
    "colab_type": "code",
    "id": "_TKOdH9tFkwe",
    "outputId": "6a46a72b-23df-4369-a758-e1cca5105487"
   },
   "outputs": [
    {
     "name": "stdout",
     "output_type": "stream",
     "text": [
      "Model: \"sequential_3\"\n",
      "_________________________________________________________________\n",
      "Layer (type)                 Output Shape              Param #   \n",
      "=================================================================\n",
      "conv2d_10 (Conv2D)           (None, 26, 26, 128)       1280      \n",
      "_________________________________________________________________\n",
      "conv2d_11 (Conv2D)           (None, 24, 24, 64)        73792     \n",
      "_________________________________________________________________\n",
      "conv2d_12 (Conv2D)           (None, 22, 22, 64)        36928     \n",
      "_________________________________________________________________\n",
      "conv2d_13 (Conv2D)           (None, 20, 20, 32)        18464     \n",
      "_________________________________________________________________\n",
      "conv2d_14 (Conv2D)           (None, 18, 18, 32)        9248      \n",
      "_________________________________________________________________\n",
      "conv2d_15 (Conv2D)           (None, 16, 16, 16)        4624      \n",
      "_________________________________________________________________\n",
      "conv2d_16 (Conv2D)           (None, 14, 14, 16)        2320      \n",
      "_________________________________________________________________\n",
      "flatten_3 (Flatten)          (None, 3136)              0         \n",
      "_________________________________________________________________\n",
      "dense_6 (Dense)              (None, 128)               401536    \n",
      "_________________________________________________________________\n",
      "dense_7 (Dense)              (None, 10)                1290      \n",
      "=================================================================\n",
      "Total params: 549,482\n",
      "Trainable params: 549,482\n",
      "Non-trainable params: 0\n",
      "_________________________________________________________________\n"
     ]
    }
   ],
   "source": [
    " model.summary()"
   ]
  },
  {
   "cell_type": "code",
   "execution_count": 13,
   "metadata": {
    "colab": {
     "base_uri": "https://localhost:8080/",
     "height": 313
    },
    "colab_type": "code",
    "id": "ExqZorPGIphW",
    "outputId": "ae889875-9418-4330-a7a2-f37b8406e84c"
   },
   "outputs": [
    {
     "name": "stdout",
     "output_type": "stream",
     "text": [
      "Test score: 0.05189133435487747\n",
      "Test accuracy: 0.9904999732971191\n"
     ]
    },
    {
     "data": {
      "image/png": "[encoded data removed]",
      "text/plain": [
       "<Figure size 432x288 with 1 Axes>"
      ]
     },
     "metadata": {
      "needs_background": "light",
      "tags": []
     },
     "output_type": "display_data"
    }
   ],
   "source": [
    "score = model.evaluate(x_test, y_test, verbose=0) \n",
    "print('Test score:', score[0]) \n",
    "print('Test accuracy:', score[1])\n",
    "\n",
    "fig,ax = plt.subplots(1,1)\n",
    "ax.set_xlabel('epoch') ; ax.set_ylabel('Categorical Crossentropy Loss')\n",
    "# list of epoch numbers\n",
    "x = list(range(1,epochs+1))\n",
    "vy = history.history['val_loss']\n",
    "ty = history.history['loss']\n",
    "plt_dynamic(x, vy, ty, ax)"
   ]
  },
  {
   "cell_type": "markdown",
   "metadata": {
    "colab_type": "text",
    "id": "GEAnAN1hMtas"
   },
   "source": []
  },
  {
   "cell_type": "code",
   "execution_count": 7,
   "metadata": {
    "colab": {
     "base_uri": "https://localhost:8080/",
     "height": 306
    },
    "colab_type": "code",
    "id": "a0ebweKpQRtv",
    "outputId": "9708dc59-e14c-457a-a9a8-86037cd2082a"
   },
   "outputs": [
    {
     "name": "stdout",
     "output_type": "stream",
     "text": [
      "   *** Architecture ***\n",
      "+-----------------+--------------------------+------------+---------------------+---------+\n",
      "| # hidden layers |       architecture       | MaxPooling | Batch_normalization | dropout |\n",
      "+-----------------+--------------------------+------------+---------------------+---------+\n",
      "|        3        |        [64,32,16]        |    yes     |         yes         |   yes   |\n",
      "|        5        |     [64,64,32,32,16]     |    yes     |          no         |    no   |\n",
      "|        7        | [128,64,64,32,32,16,16 ] |     no     |          no         |    no   |\n",
      "+-----------------+--------------------------+------------+---------------------+---------+\n",
      "\n",
      "    *** Perfromance ***\n",
      "+-----------------+------------+---------------+\n",
      "| # hidden layers | test_score | test_accuracy |\n",
      "+-----------------+------------+---------------+\n",
      "|        3        |   0.0232   |     0.9923    |\n",
      "|        5        |   0.0313   |     0.9911    |\n",
      "|        7        |   0.0518   |     0.9905    |\n",
      "+-----------------+------------+---------------+\n"
     ]
    }
   ],
   "source": [
    "from prettytable import PrettyTable\n",
    "x = PrettyTable()\n",
    "print('   *** Architecture ***')\n",
    "x.field_names = [\"# hidden layers\",\"architecture\",\"MaxPooling\",\"Batch_normalization\", \"dropout\"]\n",
    "x.add_row([3,\"[64,32,16]\",'yes','yes','yes'])\n",
    "x.add_row([5,\"[64,64,32,32,16]\",'yes','no','no'])\n",
    "x.add_row([7,\"[128,64,64,32,32,16,16 ]\",'no','no','no'])\n",
    "print(x)\n",
    "x = PrettyTable()\n",
    "print()\n",
    "print('    *** Perfromance ***')\n",
    "x.field_names = [\"# hidden layers\",\"test_score\",\"test_accuracy\"]\n",
    "x.add_row([3,.0232,.9923])\n",
    "x.add_row([5,.0313,.9911])\n",
    "x.add_row([7,.0518,.9905])\n",
    "print(x)"
   ]
  },
  {
   "cell_type": "markdown",
   "metadata": {
    "colab_type": "text",
    "id": "CcMIYu0Ccr7-"
   },
   "source": [
    "## observation:\n",
    "1.CNN with less hidden layers with good engineering(like BatchNormalization,Droupout,MaxPooling) can perform better than CNN with more hidden layers and no engineering(example:7-layer architecture).<br>\n",
    "2.Utilizing BatchNormalization,MaxPolling,dropout properly results in good increase in performance.<br>\n",
    "3.Did not observe any decrease in performance greater than 1 to 1.5 % after implementing  several variations of CNN.\n",
    "4.CNN performs quite good on MNIST dataset with or without engineering.<br>\n",
    "5.Just increasing the #hidden layers does not make difference without efficient utilization with proper techniques.<br>\n",
    "6.Dropout layer is helping to regulate overfitting  which can be observed in the second plot. \n"
   ]
  }
 ],
 "metadata": {
  "accelerator": "GPU",
  "colab": {
   "collapsed_sections": [],
   "name": "CNN_MNIST (1).ipynb",
   "provenance": []
  },
  "kernelspec": {
   "display_name": "Python 3",
   "language": "python",
   "name": "python3"
  },
  "language_info": {
   "codemirror_mode": {
    "name": "ipython",
    "version": 3
   },
   "file_extension": ".py",
   "mimetype": "text/x-python",
   "name": "python",
   "nbconvert_exporter": "python",
   "pygments_lexer": "ipython3",
   "version": "3.7.6"
  }
 },
 "nbformat": 4,
 "nbformat_minor": 1
}
